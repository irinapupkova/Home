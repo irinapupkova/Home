{
  "nbformat": 4,
  "nbformat_minor": 0,
  "metadata": {
    "colab": {
      "provenance": []
    },
    "kernelspec": {
      "name": "python3",
      "display_name": "Python 3"
    },
    "language_info": {
      "name": "python"
    }
  },
  "cells": [
    {
      "cell_type": "code",
      "execution_count": null,
      "metadata": {
        "id": "xGSCinMwZueH"
      },
      "outputs": [],
      "source": [
        "print(\"Привет, дорогой куратор! Я умею округлять любое число, только попробуй\") # задача 1, поздравляю с начааалом курса! ура! ура! ура!\n",
        "y = float(input(\"Твоё дробное число, только не забудь, что оно с точкой : \"))\n",
        "print(\"Отлично!\")\n",
        "y_2 = int(input('До скольки знаков после запятой откруглить? :'))\n",
        "print('Готово:',round(y, y_2))\n",
        "print(\"Повторим?\") # а как дальше не знаю, но по идее должно он должен переносить на 2 строку и все повторяется."
      ]
    },
    {
      "cell_type": "code",
      "source": [
        "r_1 = int(input()) # 2 задача, только я не уверена :(\n",
        "r_2 = int(input())\n",
        "print(round((r_1+r_2)/ 2))"
      ],
      "metadata": {
        "colab": {
          "base_uri": "https://localhost:8080/"
        },
        "id": "DDJdBKp_bjgC",
        "outputId": "8cb65bc7-edac-4915-88a7-40b05fe08234"
      },
      "execution_count": 47,
      "outputs": [
        {
          "output_type": "stream",
          "name": "stdout",
          "text": [
            "5\n",
            "6\n",
            "6\n"
          ]
        }
      ]
    }
  ]
}